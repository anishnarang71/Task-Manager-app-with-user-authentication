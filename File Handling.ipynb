{
 "cells": [
  {
   "cell_type": "code",
   "execution_count": 37,
   "id": "eb618ef4-1704-49af-a165-6fd069d51df2",
   "metadata": {},
   "outputs": [
    {
     "name": "stdout",
     "output_type": "stream",
     "text": [
      "Welcome to the User Authentication System!\n"
     ]
    },
    {
     "name": "stdin",
     "output_type": "stream",
     "text": [
      "Do you want to register or login? (r/l):  l\n",
      "Enter your user ID:  Kunal\n",
      "Enter your password:  ········\n"
     ]
    },
    {
     "name": "stdout",
     "output_type": "stream",
     "text": [
      "Login successful for user ! \n",
      "-----WELCOME TO THE TASK MANAGEMENT APP------\n"
     ]
    },
    {
     "name": "stdin",
     "output_type": "stream",
     "text": [
      "Enter 1-Add a Task\n",
      "2-View Tasks\n",
      "3-Mark a Task as completed\n",
      "4-Delete a Task\n",
      "5-Logout 1\n",
      "Enter how many tasks you want to do? 4\n",
      "Enter tasks 1 = Studying\n",
      "Enter tasks 2 = Playing Badminton\n",
      "Enter tasks 3 = Coding\n",
      "Enter tasks 4 = Mobile Recharge\n",
      "Enter in which file you want to make the changes in the task?\n",
      "1. Anish\n",
      "2. Kunal\n",
      "3. Hemant\n",
      " Kunal\n"
     ]
    },
    {
     "name": "stdout",
     "output_type": "stream",
     "text": [
      "Your tasks are added in the respective user profile\n"
     ]
    },
    {
     "name": "stdin",
     "output_type": "stream",
     "text": [
      "Enter 1-Add a Task\n",
      "2-View Tasks\n",
      "3-Mark a Task as completed\n",
      "4-Delete a Task\n",
      "5-Logout 2\n",
      "Enter the name of the user whose tasks you want to view:\n",
      "1. Anish\n",
      "2. Kunal\n",
      "3. Hemant\n",
      " Kunal\n"
     ]
    },
    {
     "name": "stdout",
     "output_type": "stream",
     "text": [
      "Kunal Tasks are:\n",
      "1 Studying Pending\n",
      "2 Playing Badminton Pending\n",
      "3 Coding Pending\n",
      "4 Mobile Recharge Pending\n"
     ]
    },
    {
     "name": "stdin",
     "output_type": "stream",
     "text": [
      "Enter 1-Add a Task\n",
      "2-View Tasks\n",
      "3-Mark a Task as completed\n",
      "4-Delete a Task\n",
      "5-Logout 4\n",
      "Enter the name of the user whose tasks you want to mark as deleted:\n",
      "1. Anish\n",
      "2. Kunal\n",
      "3. Hemant\n",
      " Kunal\n"
     ]
    },
    {
     "name": "stdout",
     "output_type": "stream",
     "text": [
      "['1 Studying Pending\\n', '2 Playing Badminton Pending\\n', '3 Coding Pending\\n', '4 Mobile Recharge Pending']\n"
     ]
    },
    {
     "name": "stdin",
     "output_type": "stream",
     "text": [
      "Enter the task id you want to mark as completed from the given list:  1\n"
     ]
    },
    {
     "name": "stdout",
     "output_type": "stream",
     "text": [
      "['2 Playing Badminton Pending\\n', '3 Coding Pending\\n', '4 Mobile Recharge Pending']\n",
      "Task deleted from the list successfully!\n"
     ]
    },
    {
     "name": "stdin",
     "output_type": "stream",
     "text": [
      "Enter 1-Add a Task\n",
      "2-View Tasks\n",
      "3-Mark a Task as completed\n",
      "4-Delete a Task\n",
      "5-Logout 5\n"
     ]
    },
    {
     "name": "stdout",
     "output_type": "stream",
     "text": [
      "Logout Successfully\n"
     ]
    }
   ],
   "source": [
    "import getpass\n",
    "import os\n",
    "\n",
    "# Function to register a new user\n",
    "def register_user():\n",
    "    # Take user ID and password\n",
    "    user_id = input(\"Enter your user ID: \")\n",
    "    password = getpass.getpass(\"Enter your password: \")  # Password will be hidden\n",
    "\n",
    "    # Save user credentials to a file\n",
    "    with open(\"C:/anish/user_credentials.txt\", \"a\") as file:\n",
    "        file.write(f\"{user_id},{password}\\n\")\n",
    "    \n",
    "    print(f\"User {user_id} registered successfully!\")\n",
    "\n",
    "# Function to authenticate user during login\n",
    "def authenticate_user():\n",
    "    user_id = input(\"Enter your user ID: \")\n",
    "    password = getpass.getpass(\"Enter your password: \")  # Password will be hidden\n",
    "\n",
    "    # Check if credentials match\n",
    "    with open(\"C:/anish/user_credentials.txt\", \"r\") as file:\n",
    "        for line in file:\n",
    "            stored_user_id, stored_password = line.strip().split(',')\n",
    "            if stored_user_id == user_id and stored_password == password:\n",
    "                return True  # Credentials match, user is authenticated\n",
    "    return False  # Invalid credentials\n",
    "\n",
    "def task():\n",
    "    tasks=[] #empty list\n",
    "    print(\"-----WELCOME TO THE TASK MANAGEMENT APP------\")\n",
    "    while True:\n",
    "        operation=int(input(\"Enter 1-Add a Task\\n2-View Tasks\\n3-Mark a Task as completed\\n4-Delete a Task\\n5-Logout\"))\n",
    "        if operation == 1:\n",
    "            total_task=int(input(\"Enter how many tasks you want to do?\"))\n",
    "            for i in range(1,total_task+1):\n",
    "                task_name=input(f\"Enter tasks {i} =\")\n",
    "                tasks.append(f\"{i} \"+task_name+\" Pending\")\n",
    "                #print(f\"Todays Tasks are\\n{tasks}\")\n",
    "                #names=[\"Anish_Task.txt\",\"Kunal_Task.txt\",\"Hemant_Task.txt\"]\n",
    "            user_prompt=input(\"Enter in which file you want to make the changes in the task?\\n1. Anish\\n2. Kunal\\n3. Hemant\\n\")\n",
    "            print(\"Your tasks are added in the respective user profile\")\n",
    "            with open(f\"C:/anish/{user_prompt}_Task.txt\", \"w\") as f:\n",
    "                f.write(\"\\n\".join(tasks))  # Join list items with a space and write to the file\n",
    "        if operation == 2:\n",
    "            User_Prompt=input(\"Enter the name of the user whose tasks you want to view:\\n1. Anish\\n2. Kunal\\n3. Hemant\\n\")\n",
    "            print(f\"{User_Prompt} Tasks are:\")\n",
    "            with open(f\"C:/anish/{User_Prompt}_Task.txt\", \"r\") as f:\n",
    "                content=f.read() #f.read() will read the entire content of the file\n",
    "                print(content)\n",
    "        if operation == 3:\n",
    "            User_Prompt=input(\"Enter the name of the user whose tasks you want to mark as completed:\\n1. Anish\\n2. Kunal\\n3. Hemant\\n\")\n",
    "            with open(f\"C:/anish/{User_Prompt}_Task.txt\", \"r\") as f:\n",
    "                content=f.readlines() # f.readline() will read the contents of a file as a list\n",
    "                print(content)\n",
    "            \"\"\" Here we need to enter the index of the list only. So we have to pass the position for the task which needs to be completed. e.g\n",
    "            if the task is at 3rd position enter 3 only irrespective of the task_id. User can see the list and he can pass the index easily\n",
    "            to mark the task as completed\"\"\"\n",
    "            Task_ID= int(input(\"Enter the task id you want to mark as completed from the given list: \")) \n",
    "            Task_name= input(\"Enter the task name you want to mark as completed from the given list: \")\n",
    "            content.pop(Task_ID-1)\n",
    "            #print(content)\n",
    "            with open(f\"C:/anish/{User_Prompt}_Task.txt\", \"w\") as f:\n",
    "                f.write(\"\".join(content))\n",
    "                f.write(f\"\\nTasks Completed:\\n {Task_ID} {Task_name} Completed\")\n",
    "            print(\"Status of the task changed to Mark as Completed!\")\n",
    "        if operation ==4:\n",
    "            User_Prompt=input(\"Enter the name of the user whose tasks you want to mark as deleted:\\n1. Anish\\n2. Kunal\\n3. Hemant\\n\")\n",
    "            with open(f\"C:/anish/{User_Prompt}_Task.txt\", \"r\") as f:\n",
    "                content=f.readlines()\n",
    "                print(content)\n",
    "            \"\"\" Here we need to enter the index of the list only. So we have to pass the position for the task which needs to be completed. e.g\n",
    "            if the task is at 3rd position enter 3 only irrespective of the task_id. User can see the list and he can pass the index easily\n",
    "            to mark the task as completed\"\"\"\n",
    "            Task_ID= int(input(\"Enter the task id you want to mark as completed from the given list: \")) \n",
    "            #Task_name= input(\"Enter the task name you want to mark as completed from the given list: \")\n",
    "            content.pop(Task_ID-1)\n",
    "            with open(f\"C:/anish/{User_Prompt}_Task.txt\", \"w\") as f:\n",
    "                f.write(\"\".join(content))\n",
    "            print(content)\n",
    "            print(\"Task deleted from the list successfully!\")\n",
    "        if operation == 5:\n",
    "            print(\"Logout Successfully\")\n",
    "            break\n",
    "# Main function to handle user registration and login\n",
    "def main():\n",
    "    print(\"Welcome to the User Authentication System!\")\n",
    "\n",
    "    # Ask if the user is registering or logging in\n",
    "    choice = input(\"Do you want to register or login? (r/l): \").lower()\n",
    "\n",
    "    if choice == 'r':\n",
    "        register_user()  # Register new user\n",
    "    elif choice == 'l':\n",
    "        if authenticate_user():  # Attempt to login\n",
    "            print(\"Login successful for user ! \")\n",
    "        else:\n",
    "            print(\"Invalid user ID or password. Please try again.\")\n",
    "    else:\n",
    "        print(\"Invalid choice. Please choose 'r' for register or 'l' for login.\")\n",
    "    task()\n",
    "\n",
    "if __name__ == \"__main__\":\n",
    "    # Ensure the user_credentials.txt file exists\n",
    "    if not os.path.exists(\"C:/anish/user_credentials.txt\"):\n",
    "        with open(\"C:/anish/user_credentials.txt\", \"w\") as file:\n",
    "            pass  # Create the file if it doesn't exist\n",
    "\n",
    "    main()\n"
   ]
  },
  {
   "cell_type": "code",
   "execution_count": null,
   "id": "bdd31540-23f2-4ab8-adf9-6ff0995b3ca2",
   "metadata": {},
   "outputs": [],
   "source": []
  }
 ],
 "metadata": {
  "kernelspec": {
   "display_name": "Python 3 (ipykernel)",
   "language": "python",
   "name": "python3"
  },
  "language_info": {
   "codemirror_mode": {
    "name": "ipython",
    "version": 3
   },
   "file_extension": ".py",
   "mimetype": "text/x-python",
   "name": "python",
   "nbconvert_exporter": "python",
   "pygments_lexer": "ipython3",
   "version": "3.13.1"
  }
 },
 "nbformat": 4,
 "nbformat_minor": 5
}
